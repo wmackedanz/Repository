{
 "cells": [
  {
   "cell_type": "code",
   "execution_count": 17,
   "id": "122992b7-a727-45fb-81b3-e2d99ab51d9b",
   "metadata": {},
   "outputs": [],
   "source": [
    "import polars as pl"
   ]
  },
  {
   "cell_type": "code",
   "execution_count": 18,
   "id": "6895bdf8-c200-4eac-b056-988d5c166dc1",
   "metadata": {},
   "outputs": [
    {
     "data": {
      "text/html": [
       "<div><style>\n",
       ".dataframe > thead > tr,\n",
       ".dataframe > tbody > tr {\n",
       "  text-align: right;\n",
       "  white-space: pre-wrap;\n",
       "}\n",
       "</style>\n",
       "<small>shape: (5, 24)</small><table border=\"1\" class=\"dataframe\"><thead><tr><th>playerID</th><th>yearID</th><th>stint</th><th>teamID</th><th>lgID</th><th>G</th><th>G_batting</th><th>AB</th><th>R</th><th>H</th><th>2B</th><th>3B</th><th>HR</th><th>RBI</th><th>SB</th><th>CS</th><th>BB</th><th>SO</th><th>IBB</th><th>HBP</th><th>SH</th><th>SF</th><th>GIDP</th><th>G_old</th></tr><tr><td>str</td><td>i64</td><td>i64</td><td>str</td><td>str</td><td>i64</td><td>i64</td><td>i64</td><td>i64</td><td>i64</td><td>i64</td><td>i64</td><td>i64</td><td>i64</td><td>i64</td><td>i64</td><td>i64</td><td>i64</td><td>i64</td><td>i64</td><td>i64</td><td>i64</td><td>i64</td><td>str</td></tr></thead><tbody><tr><td>&quot;aardsda01&quot;</td><td>2004</td><td>1</td><td>&quot;SFN&quot;</td><td>&quot;NL&quot;</td><td>11</td><td>null</td><td>0</td><td>0</td><td>0</td><td>0</td><td>0</td><td>0</td><td>0</td><td>0</td><td>0</td><td>0</td><td>0</td><td>0</td><td>0</td><td>0</td><td>0</td><td>0</td><td>null</td></tr><tr><td>&quot;aardsda01&quot;</td><td>2006</td><td>1</td><td>&quot;CHN&quot;</td><td>&quot;NL&quot;</td><td>45</td><td>null</td><td>2</td><td>0</td><td>0</td><td>0</td><td>0</td><td>0</td><td>0</td><td>0</td><td>0</td><td>0</td><td>0</td><td>0</td><td>0</td><td>1</td><td>0</td><td>0</td><td>null</td></tr><tr><td>&quot;aardsda01&quot;</td><td>2007</td><td>1</td><td>&quot;CHA&quot;</td><td>&quot;AL&quot;</td><td>25</td><td>null</td><td>0</td><td>0</td><td>0</td><td>0</td><td>0</td><td>0</td><td>0</td><td>0</td><td>0</td><td>0</td><td>0</td><td>0</td><td>0</td><td>0</td><td>0</td><td>0</td><td>null</td></tr><tr><td>&quot;aardsda01&quot;</td><td>2008</td><td>1</td><td>&quot;BOS&quot;</td><td>&quot;AL&quot;</td><td>47</td><td>null</td><td>1</td><td>0</td><td>0</td><td>0</td><td>0</td><td>0</td><td>0</td><td>0</td><td>0</td><td>0</td><td>1</td><td>0</td><td>0</td><td>0</td><td>0</td><td>0</td><td>null</td></tr><tr><td>&quot;aardsda01&quot;</td><td>2009</td><td>1</td><td>&quot;SEA&quot;</td><td>&quot;AL&quot;</td><td>73</td><td>null</td><td>0</td><td>0</td><td>0</td><td>0</td><td>0</td><td>0</td><td>0</td><td>0</td><td>0</td><td>0</td><td>0</td><td>0</td><td>0</td><td>0</td><td>0</td><td>0</td><td>null</td></tr></tbody></table></div>"
      ],
      "text/plain": [
       "shape: (5, 24)\n",
       "┌───────────┬────────┬───────┬────────┬───┬─────┬─────┬──────┬───────┐\n",
       "│ playerID  ┆ yearID ┆ stint ┆ teamID ┆ … ┆ SH  ┆ SF  ┆ GIDP ┆ G_old │\n",
       "│ ---       ┆ ---    ┆ ---   ┆ ---    ┆   ┆ --- ┆ --- ┆ ---  ┆ ---   │\n",
       "│ str       ┆ i64    ┆ i64   ┆ str    ┆   ┆ i64 ┆ i64 ┆ i64  ┆ str   │\n",
       "╞═══════════╪════════╪═══════╪════════╪═══╪═════╪═════╪══════╪═══════╡\n",
       "│ aardsda01 ┆ 2004   ┆ 1     ┆ SFN    ┆ … ┆ 0   ┆ 0   ┆ 0    ┆ null  │\n",
       "│ aardsda01 ┆ 2006   ┆ 1     ┆ CHN    ┆ … ┆ 1   ┆ 0   ┆ 0    ┆ null  │\n",
       "│ aardsda01 ┆ 2007   ┆ 1     ┆ CHA    ┆ … ┆ 0   ┆ 0   ┆ 0    ┆ null  │\n",
       "│ aardsda01 ┆ 2008   ┆ 1     ┆ BOS    ┆ … ┆ 0   ┆ 0   ┆ 0    ┆ null  │\n",
       "│ aardsda01 ┆ 2009   ┆ 1     ┆ SEA    ┆ … ┆ 0   ┆ 0   ┆ 0    ┆ null  │\n",
       "└───────────┴────────┴───────┴────────┴───┴─────┴─────┴──────┴───────┘"
      ]
     },
     "execution_count": 18,
     "metadata": {},
     "output_type": "execute_result"
    }
   ],
   "source": [
    "batting = pl.read_csv(\"./data/lahman_1871-2023_csv/Batting.csv\")\n",
    "batting.head()"
   ]
  },
  {
   "cell_type": "code",
   "execution_count": 3,
   "id": "1aaf3089-3b1c-4eff-ac7f-0c0a720c16cd",
   "metadata": {},
   "outputs": [
    {
     "data": {
      "text/html": [
       "<div><style>\n",
       ".dataframe > thead > tr,\n",
       ".dataframe > tbody > tr {\n",
       "  text-align: right;\n",
       "  white-space: pre-wrap;\n",
       "}\n",
       "</style>\n",
       "<small>shape: (5, 30)</small><table border=\"1\" class=\"dataframe\"><thead><tr><th>playerID</th><th>yearID</th><th>stint</th><th>teamID</th><th>lgID</th><th>W</th><th>L</th><th>G</th><th>GS</th><th>CG</th><th>SHO</th><th>SV</th><th>IPouts</th><th>H</th><th>ER</th><th>HR</th><th>BB</th><th>SO</th><th>BAOpp</th><th>ERA</th><th>IBB</th><th>WP</th><th>HBP</th><th>BK</th><th>BFP</th><th>GF</th><th>R</th><th>SH</th><th>SF</th><th>GIDP</th></tr><tr><td>str</td><td>i64</td><td>i64</td><td>str</td><td>str</td><td>i64</td><td>i64</td><td>i64</td><td>i64</td><td>i64</td><td>i64</td><td>i64</td><td>i64</td><td>i64</td><td>i64</td><td>i64</td><td>i64</td><td>i64</td><td>f64</td><td>f64</td><td>i64</td><td>i64</td><td>i64</td><td>i64</td><td>i64</td><td>i64</td><td>i64</td><td>i64</td><td>i64</td><td>i64</td></tr></thead><tbody><tr><td>&quot;aardsda01&quot;</td><td>2004</td><td>1</td><td>&quot;SFN&quot;</td><td>&quot;NL&quot;</td><td>1</td><td>0</td><td>11</td><td>0</td><td>0</td><td>0</td><td>0</td><td>32</td><td>20</td><td>8</td><td>1</td><td>10</td><td>5</td><td>0.417</td><td>6.75</td><td>0</td><td>0</td><td>2</td><td>0</td><td>61</td><td>5</td><td>8</td><td>0</td><td>1</td><td>1</td></tr><tr><td>&quot;aardsda01&quot;</td><td>2006</td><td>1</td><td>&quot;CHN&quot;</td><td>&quot;NL&quot;</td><td>3</td><td>0</td><td>45</td><td>0</td><td>0</td><td>0</td><td>0</td><td>159</td><td>41</td><td>24</td><td>9</td><td>28</td><td>49</td><td>0.214</td><td>4.08</td><td>0</td><td>1</td><td>1</td><td>0</td><td>225</td><td>9</td><td>25</td><td>1</td><td>3</td><td>2</td></tr><tr><td>&quot;aardsda01&quot;</td><td>2007</td><td>1</td><td>&quot;CHA&quot;</td><td>&quot;AL&quot;</td><td>2</td><td>1</td><td>25</td><td>0</td><td>0</td><td>0</td><td>0</td><td>97</td><td>39</td><td>23</td><td>4</td><td>17</td><td>36</td><td>0.3</td><td>6.4</td><td>3</td><td>2</td><td>1</td><td>0</td><td>151</td><td>7</td><td>24</td><td>2</td><td>1</td><td>1</td></tr><tr><td>&quot;aardsda01&quot;</td><td>2008</td><td>1</td><td>&quot;BOS&quot;</td><td>&quot;AL&quot;</td><td>4</td><td>2</td><td>47</td><td>0</td><td>0</td><td>0</td><td>0</td><td>146</td><td>49</td><td>30</td><td>4</td><td>35</td><td>49</td><td>0.268</td><td>5.55</td><td>2</td><td>3</td><td>5</td><td>0</td><td>228</td><td>7</td><td>32</td><td>3</td><td>2</td><td>4</td></tr><tr><td>&quot;aardsda01&quot;</td><td>2009</td><td>1</td><td>&quot;SEA&quot;</td><td>&quot;AL&quot;</td><td>3</td><td>6</td><td>73</td><td>0</td><td>0</td><td>0</td><td>38</td><td>214</td><td>49</td><td>20</td><td>4</td><td>34</td><td>80</td><td>0.19</td><td>2.52</td><td>3</td><td>2</td><td>0</td><td>0</td><td>296</td><td>53</td><td>23</td><td>2</td><td>1</td><td>2</td></tr></tbody></table></div>"
      ],
      "text/plain": [
       "shape: (5, 30)\n",
       "┌───────────┬────────┬───────┬────────┬───┬─────┬─────┬─────┬──────┐\n",
       "│ playerID  ┆ yearID ┆ stint ┆ teamID ┆ … ┆ R   ┆ SH  ┆ SF  ┆ GIDP │\n",
       "│ ---       ┆ ---    ┆ ---   ┆ ---    ┆   ┆ --- ┆ --- ┆ --- ┆ ---  │\n",
       "│ str       ┆ i64    ┆ i64   ┆ str    ┆   ┆ i64 ┆ i64 ┆ i64 ┆ i64  │\n",
       "╞═══════════╪════════╪═══════╪════════╪═══╪═════╪═════╪═════╪══════╡\n",
       "│ aardsda01 ┆ 2004   ┆ 1     ┆ SFN    ┆ … ┆ 8   ┆ 0   ┆ 1   ┆ 1    │\n",
       "│ aardsda01 ┆ 2006   ┆ 1     ┆ CHN    ┆ … ┆ 25  ┆ 1   ┆ 3   ┆ 2    │\n",
       "│ aardsda01 ┆ 2007   ┆ 1     ┆ CHA    ┆ … ┆ 24  ┆ 2   ┆ 1   ┆ 1    │\n",
       "│ aardsda01 ┆ 2008   ┆ 1     ┆ BOS    ┆ … ┆ 32  ┆ 3   ┆ 2   ┆ 4    │\n",
       "│ aardsda01 ┆ 2009   ┆ 1     ┆ SEA    ┆ … ┆ 23  ┆ 2   ┆ 1   ┆ 2    │\n",
       "└───────────┴────────┴───────┴────────┴───┴─────┴─────┴─────┴──────┘"
      ]
     },
     "execution_count": 3,
     "metadata": {},
     "output_type": "execute_result"
    }
   ],
   "source": [
    "pitching = pl.read_csv(\"./data/lahman_1871-2023_csv/Pitching.csv\")\n",
    "(pitching\n",
    " .head())"
   ]
  },
  {
   "cell_type": "code",
   "execution_count": 27,
   "id": "3713e8ed-3344-4332-a491-922fd5155560",
   "metadata": {},
   "outputs": [
    {
     "data": {
      "text/html": [
       "<div><style>\n",
       ".dataframe > thead > tr,\n",
       ".dataframe > tbody > tr {\n",
       "  text-align: right;\n",
       "  white-space: pre-wrap;\n",
       "}\n",
       "</style>\n",
       "<small>shape: (5, 4)</small><table border=\"1\" class=\"dataframe\"><thead><tr><th>yearID</th><th>lgID</th><th>ERA</th><th>DH_Rule</th></tr><tr><td>i64</td><td>str</td><td>f64</td><td>str</td></tr></thead><tbody><tr><td>2004</td><td>&quot;AL&quot;</td><td>5.02983</td><td>&quot;AL Only&quot;</td></tr><tr><td>1983</td><td>&quot;NL&quot;</td><td>4.119867</td><td>&quot;AL Only&quot;</td></tr><tr><td>2006</td><td>&quot;AL&quot;</td><td>4.938572</td><td>&quot;AL Only&quot;</td></tr><tr><td>1979</td><td>&quot;AL&quot;</td><td>4.724944</td><td>&quot;AL Only&quot;</td></tr><tr><td>2019</td><td>&quot;NL&quot;</td><td>4.741296</td><td>&quot;AL Only&quot;</td></tr></tbody></table></div>"
      ],
      "text/plain": [
       "shape: (5, 4)\n",
       "┌────────┬──────┬──────────┬─────────┐\n",
       "│ yearID ┆ lgID ┆ ERA      ┆ DH_Rule │\n",
       "│ ---    ┆ ---  ┆ ---      ┆ ---     │\n",
       "│ i64    ┆ str  ┆ f64      ┆ str     │\n",
       "╞════════╪══════╪══════════╪═════════╡\n",
       "│ 2004   ┆ AL   ┆ 5.02983  ┆ AL Only │\n",
       "│ 1983   ┆ NL   ┆ 4.119867 ┆ AL Only │\n",
       "│ 2006   ┆ AL   ┆ 4.938572 ┆ AL Only │\n",
       "│ 1979   ┆ AL   ┆ 4.724944 ┆ AL Only │\n",
       "│ 2019   ┆ NL   ┆ 4.741296 ┆ AL Only │\n",
       "└────────┴──────┴──────────┴─────────┘"
      ]
     },
     "execution_count": 27,
     "metadata": {},
     "output_type": "execute_result"
    }
   ],
   "source": [
    "\n",
    "league_ERA = (pitching\n",
    " .select(['yearID','lgID','R','IPouts'])\n",
    " .filter(pl.col('yearID')>1946)\n",
    " .group_by(pl.col('yearID','lgID'))\n",
    " .agg(pl.col('R').sum().alias('sum_Runs'),pl.col('IPouts').sum().alias('sum_Outs'))\n",
    " .with_columns(ERA = ((pl.col('sum_Runs')/pl.col('sum_Outs'))*27).alias('ERA'))\n",
    " .select(['yearID','lgID','ERA'])\n",
    " .with_columns(DH_Rule = pl.when(pl.col('yearID') < 1973)\n",
    "                              .then(pl.lit('No DH'))\n",
    "                              .when(pl.col('yearID') >= 2022)\n",
    "                              .then(pl.lit('DH allowed'))\n",
    "                              .otherwise(pl.lit('AL Only')))\n",
    ")\n",
    "league_ERA.head()\n"
   ]
  },
  {
   "cell_type": "code",
   "execution_count": 28,
   "id": "aeb4312b-9882-4bb0-9efc-332022abd194",
   "metadata": {},
   "outputs": [],
   "source": [
    "league_ERA.write_csv('./data/lahman_1871-2023_csv/league_ERA.csv')"
   ]
  },
  {
   "cell_type": "code",
   "execution_count": 25,
   "id": "688e48f2-e07d-4229-9654-58ea5decc72f",
   "metadata": {},
   "outputs": [
    {
     "data": {
      "text/html": [
       "<div><style>\n",
       ".dataframe > thead > tr,\n",
       ".dataframe > tbody > tr {\n",
       "  text-align: right;\n",
       "  white-space: pre-wrap;\n",
       "}\n",
       "</style>\n",
       "<small>shape: (5, 4)</small><table border=\"1\" class=\"dataframe\"><thead><tr><th>yearID</th><th>lgID</th><th>Slugging</th><th>DH_Rule</th></tr><tr><td>i64</td><td>str</td><td>f64</td><td>str</td></tr></thead><tbody><tr><td>2011</td><td>&quot;NL&quot;</td><td>0.568413</td><td>&quot;AL Only&quot;</td></tr><tr><td>1951</td><td>&quot;NL&quot;</td><td>0.530747</td><td>&quot;No DH&quot;</td></tr><tr><td>1997</td><td>&quot;AL&quot;</td><td>0.600077</td><td>&quot;AL Only&quot;</td></tr><tr><td>1963</td><td>&quot;AL&quot;</td><td>0.497155</td><td>&quot;No DH&quot;</td></tr><tr><td>1957</td><td>&quot;NL&quot;</td><td>0.527855</td><td>&quot;No DH&quot;</td></tr></tbody></table></div>"
      ],
      "text/plain": [
       "shape: (5, 4)\n",
       "┌────────┬──────┬──────────┬─────────┐\n",
       "│ yearID ┆ lgID ┆ Slugging ┆ DH_Rule │\n",
       "│ ---    ┆ ---  ┆ ---      ┆ ---     │\n",
       "│ i64    ┆ str  ┆ f64      ┆ str     │\n",
       "╞════════╪══════╪══════════╪═════════╡\n",
       "│ 2011   ┆ NL   ┆ 0.568413 ┆ AL Only │\n",
       "│ 1951   ┆ NL   ┆ 0.530747 ┆ No DH   │\n",
       "│ 1997   ┆ AL   ┆ 0.600077 ┆ AL Only │\n",
       "│ 1963   ┆ AL   ┆ 0.497155 ┆ No DH   │\n",
       "│ 1957   ┆ NL   ┆ 0.527855 ┆ No DH   │\n",
       "└────────┴──────┴──────────┴─────────┘"
      ]
     },
     "execution_count": 25,
     "metadata": {},
     "output_type": "execute_result"
    }
   ],
   "source": [
    "league_slugging = (batting\n",
    " .select(['yearID','lgID','AB','H','2B','3B','HR'])\n",
    " .filter(pl.col('yearID')>1946)\n",
    "  .group_by(pl.col('yearID','lgID'))\n",
    " .agg(pl.col('H').sum().alias('sum_1b'),pl.col('2B').sum().alias('sum_2B'),pl.col('3B').sum().alias('sum_3B'),pl.col('2B').sum().alias('sum_4B'),pl.col('AB').sum().alias('sum_AB'))\n",
    " .with_columns(Slugging = ((pl.col('sum_1b'))+(pl.col('sum_2B')*2)+(pl.col('sum_3B')*3)+(pl.col('sum_4B')*4))/(pl.col('sum_AB')))\n",
    " .select(['yearID','lgID','Slugging'])\n",
    " .with_columns(DH_Rule = pl.when(pl.col('yearID') < 1973)\n",
    "                              .then(pl.lit('No DH'))\n",
    "                              .when(pl.col('yearID') >= 2022)\n",
    "                              .then(pl.lit('DH allowed'))\n",
    "                              .otherwise(pl.lit('AL Only')))\n",
    "                  )\n",
    "league_slugging.head()"
   ]
  },
  {
   "cell_type": "code",
   "execution_count": 29,
   "id": "0f448d99-c875-410d-b23b-f4d74a92b5d6",
   "metadata": {},
   "outputs": [],
   "source": [
    "league_slugging.write_csv('./data/lahman_1871-2023_csv/league_slugging.csv')"
   ]
  }
 ],
 "metadata": {
  "kernelspec": {
   "display_name": "Python 3 (ipykernel)",
   "language": "python",
   "name": "python3"
  },
  "language_info": {
   "codemirror_mode": {
    "name": "ipython",
    "version": 3
   },
   "file_extension": ".py",
   "mimetype": "text/x-python",
   "name": "python",
   "nbconvert_exporter": "python",
   "pygments_lexer": "ipython3",
   "version": "3.12.5"
  }
 },
 "nbformat": 4,
 "nbformat_minor": 5
}
