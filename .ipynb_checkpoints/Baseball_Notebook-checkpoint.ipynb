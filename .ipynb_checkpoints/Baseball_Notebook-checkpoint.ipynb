{
 "cells": [
  {
   "cell_type": "code",
   "execution_count": 84,
   "id": "122992b7-a727-45fb-81b3-e2d99ab51d9b",
   "metadata": {},
   "outputs": [],
   "source": [
    "import polars as pl\n",
    "import plotnine as pn\n",
    "import numpy as np"
   ]
  },
  {
   "cell_type": "code",
   "execution_count": 3,
   "id": "6895bdf8-c200-4eac-b056-988d5c166dc1",
   "metadata": {},
   "outputs": [
    {
     "data": {
      "text/html": [
       "<div><style>\n",
       ".dataframe > thead > tr,\n",
       ".dataframe > tbody > tr {\n",
       "  text-align: right;\n",
       "  white-space: pre-wrap;\n",
       "}\n",
       "</style>\n",
       "<small>shape: (5, 24)</small><table border=\"1\" class=\"dataframe\"><thead><tr><th>playerID</th><th>yearID</th><th>stint</th><th>teamID</th><th>lgID</th><th>G</th><th>G_batting</th><th>AB</th><th>R</th><th>H</th><th>2B</th><th>3B</th><th>HR</th><th>RBI</th><th>SB</th><th>CS</th><th>BB</th><th>SO</th><th>IBB</th><th>HBP</th><th>SH</th><th>SF</th><th>GIDP</th><th>G_old</th></tr><tr><td>str</td><td>i64</td><td>i64</td><td>str</td><td>str</td><td>i64</td><td>i64</td><td>i64</td><td>i64</td><td>i64</td><td>i64</td><td>i64</td><td>i64</td><td>i64</td><td>i64</td><td>i64</td><td>i64</td><td>i64</td><td>i64</td><td>i64</td><td>i64</td><td>i64</td><td>i64</td><td>str</td></tr></thead><tbody><tr><td>&quot;aardsda01&quot;</td><td>2004</td><td>1</td><td>&quot;SFN&quot;</td><td>&quot;NL&quot;</td><td>11</td><td>null</td><td>0</td><td>0</td><td>0</td><td>0</td><td>0</td><td>0</td><td>0</td><td>0</td><td>0</td><td>0</td><td>0</td><td>0</td><td>0</td><td>0</td><td>0</td><td>0</td><td>null</td></tr><tr><td>&quot;aardsda01&quot;</td><td>2006</td><td>1</td><td>&quot;CHN&quot;</td><td>&quot;NL&quot;</td><td>45</td><td>null</td><td>2</td><td>0</td><td>0</td><td>0</td><td>0</td><td>0</td><td>0</td><td>0</td><td>0</td><td>0</td><td>0</td><td>0</td><td>0</td><td>1</td><td>0</td><td>0</td><td>null</td></tr><tr><td>&quot;aardsda01&quot;</td><td>2007</td><td>1</td><td>&quot;CHA&quot;</td><td>&quot;AL&quot;</td><td>25</td><td>null</td><td>0</td><td>0</td><td>0</td><td>0</td><td>0</td><td>0</td><td>0</td><td>0</td><td>0</td><td>0</td><td>0</td><td>0</td><td>0</td><td>0</td><td>0</td><td>0</td><td>null</td></tr><tr><td>&quot;aardsda01&quot;</td><td>2008</td><td>1</td><td>&quot;BOS&quot;</td><td>&quot;AL&quot;</td><td>47</td><td>null</td><td>1</td><td>0</td><td>0</td><td>0</td><td>0</td><td>0</td><td>0</td><td>0</td><td>0</td><td>0</td><td>1</td><td>0</td><td>0</td><td>0</td><td>0</td><td>0</td><td>null</td></tr><tr><td>&quot;aardsda01&quot;</td><td>2009</td><td>1</td><td>&quot;SEA&quot;</td><td>&quot;AL&quot;</td><td>73</td><td>null</td><td>0</td><td>0</td><td>0</td><td>0</td><td>0</td><td>0</td><td>0</td><td>0</td><td>0</td><td>0</td><td>0</td><td>0</td><td>0</td><td>0</td><td>0</td><td>0</td><td>null</td></tr></tbody></table></div>"
      ],
      "text/plain": [
       "shape: (5, 24)\n",
       "┌───────────┬────────┬───────┬────────┬───┬─────┬─────┬──────┬───────┐\n",
       "│ playerID  ┆ yearID ┆ stint ┆ teamID ┆ … ┆ SH  ┆ SF  ┆ GIDP ┆ G_old │\n",
       "│ ---       ┆ ---    ┆ ---   ┆ ---    ┆   ┆ --- ┆ --- ┆ ---  ┆ ---   │\n",
       "│ str       ┆ i64    ┆ i64   ┆ str    ┆   ┆ i64 ┆ i64 ┆ i64  ┆ str   │\n",
       "╞═══════════╪════════╪═══════╪════════╪═══╪═════╪═════╪══════╪═══════╡\n",
       "│ aardsda01 ┆ 2004   ┆ 1     ┆ SFN    ┆ … ┆ 0   ┆ 0   ┆ 0    ┆ null  │\n",
       "│ aardsda01 ┆ 2006   ┆ 1     ┆ CHN    ┆ … ┆ 1   ┆ 0   ┆ 0    ┆ null  │\n",
       "│ aardsda01 ┆ 2007   ┆ 1     ┆ CHA    ┆ … ┆ 0   ┆ 0   ┆ 0    ┆ null  │\n",
       "│ aardsda01 ┆ 2008   ┆ 1     ┆ BOS    ┆ … ┆ 0   ┆ 0   ┆ 0    ┆ null  │\n",
       "│ aardsda01 ┆ 2009   ┆ 1     ┆ SEA    ┆ … ┆ 0   ┆ 0   ┆ 0    ┆ null  │\n",
       "└───────────┴────────┴───────┴────────┴───┴─────┴─────┴──────┴───────┘"
      ]
     },
     "execution_count": 3,
     "metadata": {},
     "output_type": "execute_result"
    }
   ],
   "source": [
    "batting = pl.read_csv(\"./data/lahman_1871-2023_csv/Batting.csv\")\n",
    "batting.head()"
   ]
  },
  {
   "cell_type": "code",
   "execution_count": 4,
   "id": "1aaf3089-3b1c-4eff-ac7f-0c0a720c16cd",
   "metadata": {},
   "outputs": [
    {
     "data": {
      "text/html": [
       "<div><style>\n",
       ".dataframe > thead > tr,\n",
       ".dataframe > tbody > tr {\n",
       "  text-align: right;\n",
       "  white-space: pre-wrap;\n",
       "}\n",
       "</style>\n",
       "<small>shape: (5, 30)</small><table border=\"1\" class=\"dataframe\"><thead><tr><th>playerID</th><th>yearID</th><th>stint</th><th>teamID</th><th>lgID</th><th>W</th><th>L</th><th>G</th><th>GS</th><th>CG</th><th>SHO</th><th>SV</th><th>IPouts</th><th>H</th><th>ER</th><th>HR</th><th>BB</th><th>SO</th><th>BAOpp</th><th>ERA</th><th>IBB</th><th>WP</th><th>HBP</th><th>BK</th><th>BFP</th><th>GF</th><th>R</th><th>SH</th><th>SF</th><th>GIDP</th></tr><tr><td>str</td><td>i64</td><td>i64</td><td>str</td><td>str</td><td>i64</td><td>i64</td><td>i64</td><td>i64</td><td>i64</td><td>i64</td><td>i64</td><td>i64</td><td>i64</td><td>i64</td><td>i64</td><td>i64</td><td>i64</td><td>f64</td><td>f64</td><td>i64</td><td>i64</td><td>i64</td><td>i64</td><td>i64</td><td>i64</td><td>i64</td><td>i64</td><td>i64</td><td>i64</td></tr></thead><tbody><tr><td>&quot;aardsda01&quot;</td><td>2004</td><td>1</td><td>&quot;SFN&quot;</td><td>&quot;NL&quot;</td><td>1</td><td>0</td><td>11</td><td>0</td><td>0</td><td>0</td><td>0</td><td>32</td><td>20</td><td>8</td><td>1</td><td>10</td><td>5</td><td>0.417</td><td>6.75</td><td>0</td><td>0</td><td>2</td><td>0</td><td>61</td><td>5</td><td>8</td><td>0</td><td>1</td><td>1</td></tr><tr><td>&quot;aardsda01&quot;</td><td>2006</td><td>1</td><td>&quot;CHN&quot;</td><td>&quot;NL&quot;</td><td>3</td><td>0</td><td>45</td><td>0</td><td>0</td><td>0</td><td>0</td><td>159</td><td>41</td><td>24</td><td>9</td><td>28</td><td>49</td><td>0.214</td><td>4.08</td><td>0</td><td>1</td><td>1</td><td>0</td><td>225</td><td>9</td><td>25</td><td>1</td><td>3</td><td>2</td></tr><tr><td>&quot;aardsda01&quot;</td><td>2007</td><td>1</td><td>&quot;CHA&quot;</td><td>&quot;AL&quot;</td><td>2</td><td>1</td><td>25</td><td>0</td><td>0</td><td>0</td><td>0</td><td>97</td><td>39</td><td>23</td><td>4</td><td>17</td><td>36</td><td>0.3</td><td>6.4</td><td>3</td><td>2</td><td>1</td><td>0</td><td>151</td><td>7</td><td>24</td><td>2</td><td>1</td><td>1</td></tr><tr><td>&quot;aardsda01&quot;</td><td>2008</td><td>1</td><td>&quot;BOS&quot;</td><td>&quot;AL&quot;</td><td>4</td><td>2</td><td>47</td><td>0</td><td>0</td><td>0</td><td>0</td><td>146</td><td>49</td><td>30</td><td>4</td><td>35</td><td>49</td><td>0.268</td><td>5.55</td><td>2</td><td>3</td><td>5</td><td>0</td><td>228</td><td>7</td><td>32</td><td>3</td><td>2</td><td>4</td></tr><tr><td>&quot;aardsda01&quot;</td><td>2009</td><td>1</td><td>&quot;SEA&quot;</td><td>&quot;AL&quot;</td><td>3</td><td>6</td><td>73</td><td>0</td><td>0</td><td>0</td><td>38</td><td>214</td><td>49</td><td>20</td><td>4</td><td>34</td><td>80</td><td>0.19</td><td>2.52</td><td>3</td><td>2</td><td>0</td><td>0</td><td>296</td><td>53</td><td>23</td><td>2</td><td>1</td><td>2</td></tr></tbody></table></div>"
      ],
      "text/plain": [
       "shape: (5, 30)\n",
       "┌───────────┬────────┬───────┬────────┬───┬─────┬─────┬─────┬──────┐\n",
       "│ playerID  ┆ yearID ┆ stint ┆ teamID ┆ … ┆ R   ┆ SH  ┆ SF  ┆ GIDP │\n",
       "│ ---       ┆ ---    ┆ ---   ┆ ---    ┆   ┆ --- ┆ --- ┆ --- ┆ ---  │\n",
       "│ str       ┆ i64    ┆ i64   ┆ str    ┆   ┆ i64 ┆ i64 ┆ i64 ┆ i64  │\n",
       "╞═══════════╪════════╪═══════╪════════╪═══╪═════╪═════╪═════╪══════╡\n",
       "│ aardsda01 ┆ 2004   ┆ 1     ┆ SFN    ┆ … ┆ 8   ┆ 0   ┆ 1   ┆ 1    │\n",
       "│ aardsda01 ┆ 2006   ┆ 1     ┆ CHN    ┆ … ┆ 25  ┆ 1   ┆ 3   ┆ 2    │\n",
       "│ aardsda01 ┆ 2007   ┆ 1     ┆ CHA    ┆ … ┆ 24  ┆ 2   ┆ 1   ┆ 1    │\n",
       "│ aardsda01 ┆ 2008   ┆ 1     ┆ BOS    ┆ … ┆ 32  ┆ 3   ┆ 2   ┆ 4    │\n",
       "│ aardsda01 ┆ 2009   ┆ 1     ┆ SEA    ┆ … ┆ 23  ┆ 2   ┆ 1   ┆ 2    │\n",
       "└───────────┴────────┴───────┴────────┴───┴─────┴─────┴─────┴──────┘"
      ]
     },
     "execution_count": 4,
     "metadata": {},
     "output_type": "execute_result"
    }
   ],
   "source": [
    "pitching = pl.read_csv(\"./data/lahman_1871-2023_csv/Pitching.csv\")\n",
    "(pitching\n",
    " .head())"
   ]
  },
  {
   "cell_type": "code",
   "execution_count": 23,
   "id": "3713e8ed-3344-4332-a491-922fd5155560",
   "metadata": {},
   "outputs": [
    {
     "data": {
      "text/html": [
       "<div><style>\n",
       ".dataframe > thead > tr,\n",
       ".dataframe > tbody > tr {\n",
       "  text-align: right;\n",
       "  white-space: pre-wrap;\n",
       "}\n",
       "</style>\n",
       "<small>shape: (5, 4)</small><table border=\"1\" class=\"dataframe\"><thead><tr><th>yearID</th><th>leagueID</th><th>ERA</th><th>DH_Rule</th></tr><tr><td>i64</td><td>str</td><td>f64</td><td>str</td></tr></thead><tbody><tr><td>1976</td><td>&quot;AL&quot;</td><td>3.994485</td><td>&quot;AL Only&quot;</td></tr><tr><td>1987</td><td>&quot;AL&quot;</td><td>4.951953</td><td>&quot;AL Only&quot;</td></tr><tr><td>2001</td><td>&quot;AL&quot;</td><td>4.903626</td><td>&quot;AL Only&quot;</td></tr><tr><td>2015</td><td>&quot;AL&quot;</td><td>4.323618</td><td>&quot;AL Only&quot;</td></tr><tr><td>1973</td><td>&quot;AL&quot;</td><td>4.301169</td><td>&quot;AL Only&quot;</td></tr></tbody></table></div>"
      ],
      "text/plain": [
       "shape: (5, 4)\n",
       "┌────────┬──────────┬──────────┬─────────┐\n",
       "│ yearID ┆ leagueID ┆ ERA      ┆ DH_Rule │\n",
       "│ ---    ┆ ---      ┆ ---      ┆ ---     │\n",
       "│ i64    ┆ str      ┆ f64      ┆ str     │\n",
       "╞════════╪══════════╪══════════╪═════════╡\n",
       "│ 1976   ┆ AL       ┆ 3.994485 ┆ AL Only │\n",
       "│ 1987   ┆ AL       ┆ 4.951953 ┆ AL Only │\n",
       "│ 2001   ┆ AL       ┆ 4.903626 ┆ AL Only │\n",
       "│ 2015   ┆ AL       ┆ 4.323618 ┆ AL Only │\n",
       "│ 1973   ┆ AL       ┆ 4.301169 ┆ AL Only │\n",
       "└────────┴──────────┴──────────┴─────────┘"
      ]
     },
     "execution_count": 23,
     "metadata": {},
     "output_type": "execute_result"
    }
   ],
   "source": [
    "\n",
    "league_ERA = (pitching\n",
    " .select(['yearID','lgID','R','IPouts'])\n",
    " .filter(pl.col('yearID')>1946)\n",
    " .group_by(pl.col('yearID','lgID'))\n",
    " .agg(pl.col('R').sum().alias('sum_Runs'),pl.col('IPouts').sum().alias('sum_Outs'))\n",
    " .with_columns(ERA = ((pl.col('sum_Runs')/pl.col('sum_Outs'))*27).alias('ERA'))\n",
    " .select(['yearID','lgID','ERA'])\n",
    " .pivot(['lgID'], \n",
    "        index = 'yearID', \n",
    "        values = 'ERA')\n",
    " .with_columns(AL_minus_NL = (pl.col('AL') - pl.col('NL')))\n",
    " .unpivot(on = ['AL','NL','AL_minus_NL'],\n",
    "         index = 'yearID',\n",
    "         variable_name = 'leagueID',\n",
    "         value_name = 'ERA')\n",
    " .with_columns(DH_Rule = pl.when(pl.col('yearID') < 1973)\n",
    "                              .then(pl.lit('No DH'))\n",
    "                              .when(pl.col('yearID') >= 2022)\n",
    "                              .then(pl.lit('DH allowed'))\n",
    "                              .otherwise(pl.lit('AL Only')))\n",
    "\n",
    ")\n",
    "league_ERA.head()\n"
   ]
  },
  {
   "cell_type": "code",
   "execution_count": 28,
   "id": "aeb4312b-9882-4bb0-9efc-332022abd194",
   "metadata": {},
   "outputs": [],
   "source": [
    "league_ERA.write_csv('./data/lahman_1871-2023_csv/league_ERA.csv')"
   ]
  },
  {
   "cell_type": "code",
   "execution_count": 86,
   "id": "688e48f2-e07d-4229-9654-58ea5decc72f",
   "metadata": {},
   "outputs": [
    {
     "data": {
      "text/html": [
       "<div><style>\n",
       ".dataframe > thead > tr,\n",
       ".dataframe > tbody > tr {\n",
       "  text-align: right;\n",
       "  white-space: pre-wrap;\n",
       "}\n",
       "</style>\n",
       "<small>shape: (5, 4)</small><table border=\"1\" class=\"dataframe\"><thead><tr><th>yearID</th><th>leagueID</th><th>Slugging</th><th>DH_Rule</th></tr><tr><td>i64</td><td>str</td><td>f64</td><td>str</td></tr></thead><tbody><tr><td>1949</td><td>&quot;AL&quot;</td><td>0.541314</td><td>&quot;No DH&quot;</td></tr><tr><td>1982</td><td>&quot;AL&quot;</td><td>0.553129</td><td>&quot;AL Only&quot;</td></tr><tr><td>1976</td><td>&quot;AL&quot;</td><td>0.513597</td><td>&quot;AL Only&quot;</td></tr><tr><td>1973</td><td>&quot;AL&quot;</td><td>0.515254</td><td>&quot;AL Only&quot;</td></tr><tr><td>2022</td><td>&quot;AL&quot;</td><td>0.543414</td><td>&quot;DH allowed&quot;</td></tr></tbody></table></div>"
      ],
      "text/plain": [
       "shape: (5, 4)\n",
       "┌────────┬──────────┬──────────┬────────────┐\n",
       "│ yearID ┆ leagueID ┆ Slugging ┆ DH_Rule    │\n",
       "│ ---    ┆ ---      ┆ ---      ┆ ---        │\n",
       "│ i64    ┆ str      ┆ f64      ┆ str        │\n",
       "╞════════╪══════════╪══════════╪════════════╡\n",
       "│ 1949   ┆ AL       ┆ 0.541314 ┆ No DH      │\n",
       "│ 1982   ┆ AL       ┆ 0.553129 ┆ AL Only    │\n",
       "│ 1976   ┆ AL       ┆ 0.513597 ┆ AL Only    │\n",
       "│ 1973   ┆ AL       ┆ 0.515254 ┆ AL Only    │\n",
       "│ 2022   ┆ AL       ┆ 0.543414 ┆ DH allowed │\n",
       "└────────┴──────────┴──────────┴────────────┘"
      ]
     },
     "execution_count": 86,
     "metadata": {},
     "output_type": "execute_result"
    }
   ],
   "source": [
    "league_slugging = (batting\n",
    " .select(['yearID','lgID','AB','H','2B','3B','HR'])\n",
    " .filter(pl.col('yearID')>1946)\n",
    "  .group_by(pl.col('yearID','lgID'))\n",
    " .agg(pl.col('H').sum().alias('sum_1b'),pl.col('2B').sum().alias('sum_2B'),pl.col('3B').sum().alias('sum_3B'),pl.col('2B').sum().alias('sum_4B'),pl.col('AB').sum().alias('sum_AB'))\n",
    " .with_columns(Slugging = ((pl.col('sum_1b'))+(pl.col('sum_2B')*2)+(pl.col('sum_3B')*3)+(pl.col('sum_4B')*4))/(pl.col('sum_AB')))\n",
    " .select(['yearID','lgID','Slugging'])\n",
    ".pivot(['lgID'], \n",
    "        index = 'yearID', \n",
    "        values = 'Slugging')\n",
    " .with_columns(AL_minus_NL = (pl.col('AL') - pl.col('NL')))\n",
    " .unpivot(on = ['AL','NL','AL_minus_NL'],\n",
    "         index = 'yearID',\n",
    "         variable_name = 'leagueID',\n",
    "         value_name = 'Slugging')\n",
    " .with_columns(DH_Rule = pl.when(pl.col('yearID') < 1973)\n",
    "                              .then(pl.lit('No DH'))\n",
    "                              .when(pl.col('yearID') >= 2022)\n",
    "                              .then(pl.lit('DH allowed'))\n",
    "                              .otherwise(pl.lit('AL Only')))\n",
    "\n",
    "                  )\n",
    "league_slugging.head()"
   ]
  },
  {
   "cell_type": "code",
   "execution_count": 29,
   "id": "0f448d99-c875-410d-b23b-f4d74a92b5d6",
   "metadata": {},
   "outputs": [],
   "source": [
    "#league_slugging.write_csv('./data/lahman_1871-2023_csv/league_slugging.csv')"
   ]
  },
  {
   "cell_type": "code",
   "execution_count": 104,
   "id": "03198e33-af82-469f-93e4-5b23e3d52815",
   "metadata": {},
   "outputs": [
    {
     "name": "stderr",
     "output_type": "stream",
     "text": [
      "C:\\Users\\lb7659fu\\Downloads\\anaconda\\envs\\Polars\\Lib\\site-packages\\plotnine\\ggplot.py:606: PlotnineWarning: Saving 18 x 8 in image.\n",
      "C:\\Users\\lb7659fu\\Downloads\\anaconda\\envs\\Polars\\Lib\\site-packages\\plotnine\\ggplot.py:607: PlotnineWarning: Filename: ERA_plot.png\n"
     ]
    }
   ],
   "source": [
    "from plotnine import ggplot,geom_line,geom_vline,geom_hline, aes,geom_point,ggtitle,facet_grid,labs,guide_legend,guides,theme,element_text,annotate,element_line,element_rect,theme_set,theme_void,scale_y_continuous,scale_x_continuous,ggsave\n",
    "    \n",
    "\n",
    "\n",
    "ERA_plot = (ggplot(league_ERA)\n",
    " + geom_line(aes(x = \"yearID\",\n",
    "                  y = \"ERA\",\n",
    "                  color = \"leagueID\"),\n",
    "             size = 2\n",
    "             )\n",
    " + geom_vline(xintercept = 1973,\n",
    "             linetype = 'dashed',\n",
    "             color = 'orange',\n",
    "             size = 2)\n",
    " +geom_hline(yintercept = 0,\n",
    "            linetype = 'dashed',\n",
    "            color = 'black')\n",
    " + ggtitle(\"League ERA - AL vs NL\")\n",
    " +theme(panel_background=element_rect(fill=\"white\", alpha=0.3)\n",
    "       ,plot_background=element_rect(fill=\"white\", alpha=0.3)\n",
    "       ,panel_border=element_rect(color='black', size=1)\n",
    "       ,axis_ticks_length_minor=0.25\n",
    "       ,axis_ticks=element_line(size=1)\n",
    "       ,plot_title = element_text(size = 40))\n",
    " + theme(figure_size=(18, 8))\n",
    "   + scale_y_continuous(breaks=np.arange(0, 6, 0.5))\n",
    "   + scale_x_continuous(breaks=np.arange(1940, 2021, 10))\n",
    " + annotate(\"text\", x=1958, y=1, label=\"DH introduced in AL in 1973\", color=\"black\", size=24)\n",
    "\n",
    "\n",
    " )\n",
    "ERA_plot\n",
    "ERA_plot.save(filename = 'ERA_plot.png', height=8, width=18, units = 'in', dpi=1000)"
   ]
  },
  {
   "cell_type": "code",
   "execution_count": 103,
   "id": "a83d8fd6-6df8-4286-a025-8c62a6f5c6cd",
   "metadata": {},
   "outputs": [
    {
     "name": "stderr",
     "output_type": "stream",
     "text": [
      "C:\\Users\\lb7659fu\\Downloads\\anaconda\\envs\\Polars\\Lib\\site-packages\\plotnine\\ggplot.py:606: PlotnineWarning: Saving 18 x 8 in image.\n",
      "C:\\Users\\lb7659fu\\Downloads\\anaconda\\envs\\Polars\\Lib\\site-packages\\plotnine\\ggplot.py:607: PlotnineWarning: Filename: slugging_plot.png\n"
     ]
    }
   ],
   "source": [
    "from plotnine import ggplot,geom_line,geom_vline,geom_hline, aes,geom_point,ggtitle,facet_grid,labs,guide_legend,guides,theme,element_text,annotate,element_line,element_rect,theme_set,theme_void,scale_y_continuous,scale_x_continuous,ggsave\n",
    "    \n",
    "\n",
    "\n",
    "slugging_plot = (ggplot(league_slugging)\n",
    " + geom_line(aes(x = \"yearID\",\n",
    "                  y = \"Slugging\",\n",
    "                  color = \"leagueID\"),\n",
    "             size = 2\n",
    "             )\n",
    " + geom_vline(xintercept = 1973,\n",
    "             linetype = 'dashed',\n",
    "             color = 'orange',\n",
    "             size = 2)\n",
    " +geom_hline(yintercept = 0,\n",
    "            linetype = 'dashed',\n",
    "            color = 'black')\n",
    " + ggtitle(\"League Slugging - AL vs NL\")\n",
    " +theme(panel_background=element_rect(fill=\"white\", alpha=0.3)\n",
    "       ,plot_background=element_rect(fill=\"white\", alpha=0.3)\n",
    "       ,panel_border=element_rect(color='black', size=1)\n",
    "       ,axis_ticks_length_minor=0.25\n",
    "       ,axis_ticks=element_line(size=1)\n",
    "       ,plot_title = element_text(size = 40))\n",
    " + theme(figure_size=(18, 8))\n",
    "   + scale_y_continuous(breaks=np.arange(0, 1, 0.15))\n",
    "   + scale_x_continuous(breaks=np.arange(1940, 2021, 10))\n",
    " + annotate(\"text\", x=1958, y=0.05, label=\"DH introduced in AL in 1973\", color=\"black\", size=24)\n",
    "\n",
    "\n",
    " )\n",
    "slugging_plot\n",
    "slugging_plot.save(filename = 'slugging_plot.png', height=8, width=18, units = 'in', dpi=1000)"
   ]
  }
 ],
 "metadata": {
  "kernelspec": {
   "display_name": "Python 3 (ipykernel)",
   "language": "python",
   "name": "python3"
  },
  "language_info": {
   "codemirror_mode": {
    "name": "ipython",
    "version": 3
   },
   "file_extension": ".py",
   "mimetype": "text/x-python",
   "name": "python",
   "nbconvert_exporter": "python",
   "pygments_lexer": "ipython3",
   "version": "3.12.5"
  }
 },
 "nbformat": 4,
 "nbformat_minor": 5
}
